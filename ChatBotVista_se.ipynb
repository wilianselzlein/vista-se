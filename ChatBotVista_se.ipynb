{
 "cells": [
  {
   "cell_type": "markdown",
   "metadata": {
    "colab_type": "text",
    "id": "ujKQ9dkWTR8H"
   },
   "source": [
    "TODO:\n",
    "- Banco de Sinônimos\n",
    "- Gerar Palavras Chaves também com base nos sinônimos\n",
    "- PosTag\n",
    "- Random (3 score > 90%, 4 score entre 85% e 90%, 5 score entre 80% e 95%)\n",
    "- Lema\n",
    "\n",
    "Exemplos:\n",
    "\n",
    "https://medium.com/botsbrasil/qual-a-melhor-linguagem-para-se-criar-um-chatbot-381c9d2b1ced\n",
    "\n",
    "https://medium.com/swlh/a-chatbot-in-python-using-nltk-938a37a9eacc\n",
    "\n",
    "https://github.com/gunthercox/ChatterBot/tree/master/examples/django_app\n",
    "\n",
    "https://github.com/parulnith/Building-a-Simple-Chatbot-in-Python-using-NLTK/blob/master/Chatbot.ipynb\n"
   ]
  },
  {
   "cell_type": "code",
   "execution_count": 1,
   "metadata": {
    "colab": {},
    "colab_type": "code",
    "id": "PAKIhA5vU8Nw"
   },
   "outputs": [],
   "source": [
    "import random\n",
    "import string\n",
    "import warnings\n",
    "import numpy as np\n",
    "import re"
   ]
  },
  {
   "cell_type": "code",
   "execution_count": 2,
   "metadata": {
    "colab": {},
    "colab_type": "code",
    "id": "rgTcQOCne53W"
   },
   "outputs": [],
   "source": [
    "from unicodedata import normalize"
   ]
  },
  {
   "cell_type": "code",
   "execution_count": 3,
   "metadata": {
    "colab": {},
    "colab_type": "code",
    "id": "awvwQKxGVGNs"
   },
   "outputs": [],
   "source": [
    "import nltk"
   ]
  },
  {
   "cell_type": "code",
   "execution_count": 4,
   "metadata": {
    "colab": {
     "base_uri": "https://localhost:8080/"
    },
    "colab_type": "code",
    "id": "6T6a6LhDVISR",
    "outputId": "27834ba6-5547-49f8-8a0f-2c6354ac75f6"
   },
   "outputs": [
    {
     "data": {
      "text/plain": [
       "True"
      ]
     },
     "execution_count": 4,
     "metadata": {},
     "output_type": "execute_result"
    }
   ],
   "source": [
    "nltk.download('punkt', quiet=True) # first-time use only\n",
    "nltk.download('wordnet', quiet=True) # first-time use only\n",
    "nltk.download('popular', quiet=True)"
   ]
  },
  {
   "cell_type": "markdown",
   "metadata": {
    "colab_type": "text",
    "id": "zhj8mKG_VaAj"
   },
   "source": [
    "# Conversation"
   ]
  },
  {
   "cell_type": "code",
   "execution_count": 5,
   "metadata": {
    "colab": {},
    "colab_type": "code",
    "id": "O90ZOnUcVMaq"
   },
   "outputs": [],
   "source": [
    "cordialities = [\n",
    "  'oi', 'oi',\n",
    "  'ola', 'ola',\n",
    "  'bom dia', 'bom dia',\n",
    "  'boa tarde', 'boa tarde',\n",
    "  'boa noite', 'boa noite',\n",
    "]"
   ]
  },
  {
   "cell_type": "code",
   "execution_count": 6,
   "metadata": {
    "colab": {},
    "colab_type": "code",
    "id": "oytZ1Ff_WXE4"
   },
   "outputs": [],
   "source": [
    "goodbyes = [\n",
    "  'bye', 'bye',\n",
    "  'tchau', 'tchau',\n",
    "  'ate logo', 'ate logo',\n",
    "  'ate mais ver', 'ate mais ver',\n",
    "  'bon voyage', 'bon voyage',\n",
    "  'arrivederci', 'arrivederci',\n",
    "  'ate mais', 'ate mais',\n",
    "  'adeus', 'adeus', \n",
    "  'hasta la vista baby', 'hasta la vista baby',\n",
    "]"
   ]
  },
  {
   "cell_type": "code",
   "execution_count": 49,
   "metadata": {
    "colab": {},
    "colab_type": "code",
    "id": "8rwk8MYTWndq"
   },
   "outputs": [],
   "source": [
    "conversations = [\n",
    "'Abate Humanitário', 'Um eufemismo para definir o assassinato de animais na pecuária. No abate humanitário, segundo a indústria, os animais sofrem menos do que em outros tipos de abate. ', \n",
    "'Abolicionismo', 'Na causa animal, um movimento filosófico e político que sustenta que nenhum animal deva ser explorado, mesmo que com melhores condições ou menos sofrimento. Assim como aconteceu com o abolicionismo humano, que propôs o fim da escravidão de homens e mulheres, o abolicionismo animal busca a abolição de toda forma de escravidão e exploração animal. ', \n",
    "'Agave', 'Um substituto do mel com mesma aparência e textura. Tem um sabor adocicado muito próximo do mel também, mas sua origem é um cacto, o mesmo que dá origem à tequila. ', \n",
    "'ALF', 'Sigla em inglês para Animal Liberation Front. Em português, Frente de Liberação Animal (FLA). É uma frente internacional formada por ativistas normalmente mascarados que entram em locais onde há animais sendo explorados para resgatá-los. Além do resgate, normalmente os ativistas da ALF causam prejuízo financeiro ao local para que outros animais não sejam explorados depois. ', \n",
    "'Aquafaba', 'É a água do cozimento do grão-de-bico ou de outra leguminosa que, após batida em batedeira, se transforma em uma espécie de clara em neve. O mais comum é que a água do grão-de-bico seja usada no preparo da aquafaba e é possível fazer mousses e até suspiros com ela. Uma das maiores invenções da culinária vegana nos últimos anos. A aquafaba foi criada no fim de 2014 por um francês. ', \n",
    "'B12', 'Vitamina muito falada no meio vegano por ser encontrada naturalmente apenas em produtos de origem animal. Ela não é, no entanto, produzida por animais. A vitamina B12 é produzida por bactérias e é encontrada em produtos animais porque eles tornam-se depósitos dessa vitamina por consumir alimentos sem muita higienização. A vitamina B12 é essencial para a prevenção de alguns tipos de anemia e para o bom funcionamento do sistema nervoso. Sua reposição por meio de suplementação é obrigatória para vegetarianos. Muitas pessoas que comem carne também apresentam deficiência dessa vitamina e também devem fazer a suplementação. ', \n",
    "'Bem-estarismo', 'Forma de pensar de quem acha que basta que os animais sofram menos na pecuária. Os chamados bem-estaristas pregam que os animais devam ser respeitados dentro da indústria, mas não que eles devam simplesmente deixar de ser explorados. Uma bandeira de quem defende o bem-estarismo é o chamado abate humanitário. ', \n",
    "'Bem-estarista', 'Quem pratica o bem-estarismo. ', \n",
    "'Biomassa de banana', 'Uma massa obtida por meio do cozimento de bananas verdes. Não tem sabor, serve apenas para enriquecer alimentos e como base para brigadeiros, sopas e pães. ', \n",
    "'Carne de Jaca', 'Uma espécie de carne branca vegetal feita com a fruta jaca verde. A fruta, que precisa estar verde, é cozida e depois desfiada e pega o tempero que for dado a ela. Não tem gosto da fruta madura, é impossível reconhecer que é jaca. É usada por sua textura muito parecida com a da carne de frango. ', \n",
    "'Carne de Soja', 'PTS é uma sigla que significa Proteína Texturizada de Soja. É a forma mais comum e fácil de se fazer a \"carne de soja\", que se parece muito com carne moída. A PTS é obtida da soja por meio de um processo industrial chamado extrusão. Muitos nutricionistas não recomendam a ingestão exagerada de PTS e alguns recomendam que ela não seja consumida.  ', \n",
    "'Carnismo', 'É a crença de que certas espécies podem ser mortas para consumo. É um tipo de ideologia não consciente ou consciente de quem defende o consumo de carne. O termo foi criado pela Phd Melanie Joy, da universidade de Harvard. ', \n",
    "'Carnista', 'Quem pratica, de forma consciente ou inconsciente, o carnismo. Procure por carnismo. ', \n",
    "'Churrasco Vegano', 'Um churrasco normalmente feito com espetinhos que, no lugar de carnes e queijos, utiliza apenas vegetais ou embutidos feitos à partir de vegetais. ', \n",
    "'Cochonilha', 'Corante vermelho proveniente de insetos e largamente utilizado pela indústria de alimentos e cosméticos. Aparece nas embalagens dos produtos como: Cochonilha, Corante Natural Carmim, Ácido Carmínico, CI 75470, INS 120 ou E120. ', \n",
    "'Cruelty Free', 'Termo em inglês que significa \"livre de crueldade\". Usado principalmente na indústria de cosméticos, o termo é bastante traiçoeiro, já que é usado para definir apenas produtos que não foram testados em animais. Há muitos produtos que têm ingredientes de origem animal em sua composição e que, mesmo assim, têm o selo Cruelty Free. O selo, portanto, não garante produtos realmente livres de crueldade. ', \n",
    "'Especismo', 'Atribuição de direitos com base na espécie do indivíduo. Exemplo: Pensar que não há problema em matar um porco para comer, mas achar um absurdo que se mate um cachorro para o mesmo fim. ', \n",
    "'Especista', 'Aquele que pratica o especismo. ', \n",
    "'Esquizofrenia Moral', 'O modo ilusório e confuso de pensar que alguns animais podem ser mortos, enquanto outros são amigos e membros da família. Algo bem parecido com carnismo (procure carnismo). O termo esquizofrenia moral foi cunhado pelo professor norte-americano Gary Francione. ', \n",
    "'Falafel', 'Bolinho frito à base de grão-de-bico e ervas em formato ovalado de origem árabe. Sua receita original é vegana. É simplesmente delicioso. ', \n",
    "'Free Range', 'Termo em inglês que define produtos oriundos de animais criados \"soltos\". Mas \"soltos\", quase sempre, refere-se a grandes galpões fechados, e não a um campo verde e cheio de flores. É um termo muito usado em embalagens de ovos obtidos de galinhas exploradas fora das terríveis gaiolas de bateria. No fim de sua vida útil para a indústria, porém, os animais explorados para produtos \"free range\" são abatidos, como acontece com todos os outros animais nessa indústria. ', \n",
    "'Gaiolas de bateria', 'São gaiolas usadas para confinamento intensivo de animais na indústria. Muito comum na indústria dos ovos, o uso dessas gaiolas é considerado um dos métodos mais cruéis já criados pelo ser humano. Nessas gaiolas, as galinhas exploradas pela indústria dos ovos passam a vida sem poder abrir as asas em um espaço equivalente ao de uma folha de sulfite A4. O confinamento com gaiolas de bateria é comum também na criação de porcos, com gaiolas preparadas para o tamanho desses animais. Eles não podem sequer virar para trás. ', \n",
    "'Grãomelete', 'Espécie de omelete feito sem o uso de ovos ou qualquer outro ingrediente de origem animal. Normalmente, é uma massa à base de grão-de-bico que é frita no formato de um omelete. ', \n",
    "'Guacamole', 'Um preparado salgado à base de abacate de origem mexicana. É naturalmente vegano em sua receita original. ', \n",
    "'Homus', 'Pasta de grão-de-bico de origem árabe que pode ser facilmente preparada em casa. É muito nutritiva e saborosa. ', \n",
    "'Lactovegetariano', 'Indivíduo que não consome carnes de nenhum tipo, mas que ainda consome laticínios e seus derivados. ', \n",
    "'Leite vegetal', 'Qualquer leite que seja feito a partir de vegetais. Os mais comuns são os de soja, amêndoas, amendoim e coco. Basicamente, é só bater o vegetal com o dobro de água e coar, mas é importante buscar receitas específicas. ', \n",
    "'Levedo de Cerveja', 'Procure por levedura de cerveja. ', \n",
    "'Levedura de Cerveja', 'Ingrediente facilmente encontrado em supermercados que normalmente é utilizado para substituir a levedura nutricional em receitas veganas. Mas a levedura de cerveja tem um gosto mais puxado para o amargo. É preciso ter cuidado antes de incluir em qualquer receita. ', \n",
    "'Levedura Nutricional', 'Procure por Nutritional Yeast. ', \n",
    "'Libertação Animal', 'O fim de todo tipo de sofrimento e exploração animal. ', \n",
    "'Melado', 'Melado ou melado-de-cana é um derivado da cana-de-açúcar usado para substituir o mel em receitas. A receita vegana mais famosa que utiliza este ingrediente é o pão de melado. O melado é riquíssimo em ferro, mais uma vantagem sobre o mel, além de ser livre de crueldade. ', \n",
    "'Natureba', 'Termo informal – e por vezes pejorativo – para definir pessoa que só come coisas naturais e é excessivamente preocupada com a saúde. ', \n",
    "'Nutritional Yeast', 'É um ingrediente normalmente importado que dá um sabor parecido com o de queijo às preparações e, de quebra, deixa tudo muito mais nutritivo, pois tem dezenas de vitaminas. O principal fabricante chama-se Red Star. É conhecido no Brasil também como levedura nutricional. Não é a mesma coisa que levedura de cerveja. ', \n",
    "'Ovolactovegetariano', 'Indivíduo que não consome carnes de nenhum tipo, mas que ainda consome ovos, laticínios e seus derivados. ', \n",
    "'Ovovegetariano', 'Indivíduo que não consome carnes de nenhum tipo, mas que ainda consome ovos. ', \n",
    "'PTS', 'PTS é uma sigla que significa Proteína Texturizada de Soja. É a forma mais comum e fácil de se fazer a \"carne de soja\", que se parece muito com carne moída. A PTS é obtida da soja por meio de um processo industrial chamado extrusão. Muitos nutricionistas não recomendam a ingestão exagerada de PTS e alguns recomendam que ela não seja consumida.  ', \n",
    "'PVT', 'Procure por PTS. A sigla PVT significa Proteína Vegetal Texturizada, mas o produto é o mesmo que PTS. ', \n",
    "'Santuário de animais', 'Normalmente um sítio ou uma fazenda dedicada a abrigar animais e que não tem visitação pública. Alguns santuários permitem apenas visitação guiada de pequenos grupos, para não estressar ou prejudicar os animais. ', \n",
    "'Seitan', 'Também chamado de \"carne de glúten\", é um alimento à base da proteína do trigo que é muito versátil e pode ser frito, grelhado e preparado de várias formas, onde as pessoas costumam usar carne. ', \n",
    "'Senciência', 'É a capacidade de ter sentimentos e sensações. Os seres sencientes, ao contrário das plantas, apresentam sistema nervoso e podem sentir dor, medo, desespero, alegria etc. Gatos, bois, peixes, cachorros, porcos, pássaros e frangos são exemplos de seres sencientes. ', \n",
    "'Seres Sencientes', 'Procure por senciência. ', \n",
    "'Tempeh', 'Alimento à base de soja fermentada com sabor bem peculiar. Muito nutritivo e versátil, pode ser grelhado e colocado em sanduíches ou refeições. ', \n",
    "'Tofu', 'Alimento feito à base de soja que se parece com um queijo, mas praticamente não tem sabor. É uma base, usada para inúmeras receitas salgadas e também doces. ', \n",
    "'Traços', 'Traços são possíveis resquícios que ficam no alimento que é produzido em máquinas ou cozinhas que manipulam outros alimentos. Quando um alimento traz na embalagem a informação de que pode haver ali traços de leite, por exemplo, significa que a empresa usa a mesma máquina para fazer alimentos com e sem leite. Por padrão, as empresas precisam fazer uma higienização entre uma produção e outra, ainda assim, a mensagem precisa constar no rótulo, por lei. ', \n",
    "'Tutor', 'Indivíduo que tutora, que cuida, de animais. Substitui o termo \"dono\", uma vez que os animais não devem ser considerados mercadoria. Exemplo: \"Ele é o tutor daquele cãozinho lindo.\", \"Eu tutoro dois gatinhos desde que eles foram resgatados das ruas.\". ', \n",
    "'Vegan', 'Procure por vegano. Palavra em inglês que significa vegano. ', \n",
    "'Veganismo', 'Filosofia de vida que busca excluir, sempre que praticável, todas as formas de exploração animal. Tanto na alimentação, quanto no entretenimento, no vestuário e em todos os outros comportamentos de consumo. É também uma postura política e social contra a exploração animal. ', \n",
    "'Veganizar', 'Termo informal utilizado como verbo para pessoas, pratos ou locais que aderiram ao veganismo. Exemplos: \"Fulano veganizou.\", \"Precisamos veganizar a rede de lanchonetes toda.\", \"A cidade toda está veganizando aos poucos.\", \"Ele conseguiu veganizar a receita de bolo preferida da família.\". ', \n",
    "'Vegano', 'Indivíduo que utiliza o vegetarianismo como dieta, ou seja, que não consome nada de origem animal em sua alimentação. E que também não consome nada de origem animal em cosméticos, vestuário e em todos os aspectos da vida. Além disso, veganos não frequentam ou apoiam eventos que causem sofrimento aos animais como rodeios e atividades similares. ', \n",
    "'Vegetarianismo', 'Método alimentar que consiste na utilização apenas de vegetais.', \n",
    "'Vegetariano', 'Quem utiliza o vegetarianismo como dieta. É comum, porém, pessoas ovolactovegetarianas, ovovegetarianas ou lactovegetarianas serem chamadas apenas de vegetarianas, o que é um erro na visão de muitos especialistas.', \n",
    "'Vegetariano Estrito', 'Individuo que se alimenta apenas de vegetais, mas que não necessariamente evita roupas ou cosméticos feitos a partir de animais.',\n",
    "'Vivissecção', 'Estudos ou experimentações feitas em animais vivos. É cortar o animal vivo.'\n",
    "]"
   ]
  },
  {
   "cell_type": "code",
   "execution_count": 8,
   "metadata": {
    "colab": {},
    "colab_type": "code",
    "id": "cHAFj6RJFoz9"
   },
   "outputs": [],
   "source": [
    "questions = [\n",
    "  '', \n",
    "  'funciona',\n",
    "  'me explica funciona',\n",
    "  'gostaria informacoes sobre',\n",
    "  'informacao sobre',\n",
    "  'informacoes sobre',\n",
    "  'me explique',\n",
    "]"
   ]
  },
  {
   "cell_type": "markdown",
   "metadata": {
    "colab_type": "text",
    "id": "stKlQSM2ZSBu"
   },
   "source": [
    "# Text"
   ]
  },
  {
   "cell_type": "markdown",
   "metadata": {
    "colab_type": "text",
    "id": "3UY27nr3bVE9"
   },
   "source": [
    "## Functions"
   ]
  },
  {
   "cell_type": "code",
   "execution_count": 10,
   "metadata": {
    "colab": {},
    "colab_type": "code",
    "id": "1JQjWjk9ZyUk"
   },
   "outputs": [],
   "source": [
    "def Lower(s):\n",
    "    return s.lower()"
   ]
  },
  {
   "cell_type": "code",
   "execution_count": 11,
   "metadata": {
    "colab": {},
    "colab_type": "code",
    "id": "acZDqmWJbOA_"
   },
   "outputs": [],
   "source": [
    "def RemoveURL(s):\n",
    "  # Código-Fonte utilizado para remoção de hashtags e URLs do corpus\n",
    "  # Remove as hashtags do corpus pattern = re.compile(r'\\#\\w+') raw = pattern.sub('', raw)\n",
    "  # Remove as URLs do corpus\n",
    "  # pattern = re.compile(r'http[s]?://(?:[a-zA-Z]|[0-9]|[$-_@.&+]|[!*\\(\\),]|(?:%[0-9a-fA-F][0-9a-fA-F]))+')\n",
    "  # return pattern.sub('', s)\n",
    "  return re.sub(\n",
    "      r\"(https?:\\/\\/(?:www\\d?\\.|(?!www\\d?))[a-zA-Z0-9][a-zA-Z0-9-]+[a-zA-Z0-9]\\.[^\\s]{2,}|www\\d?\\.\"\n",
    "      r\"[a-zA-Z0-9][a-zA-Z0-9-]+[a-zA-Z0-9]\\.[^\\s]{2,}|https?:\\/\\/(?:www\\d?\\.|(?!www\\d?))[a-zA-Z0-9]\"\n",
    "      r\"+\\.[^\\s]{2,}|www\\d?\\.[a-zA-Z0-9]+\\.[^\\s]{2,})\",\n",
    "      \" __url__ \",\n",
    "      s,\n",
    "  )"
   ]
  },
  {
   "cell_type": "code",
   "execution_count": 12,
   "metadata": {
    "colab": {},
    "colab_type": "code",
    "id": "rtzziOBwbPlw"
   },
   "outputs": [],
   "source": [
    "def RemoveEmail(s):\n",
    "    return re.sub(\n",
    "      r\"([a-zA-Z0-9_.+-]+@[a-zA-Z0-9-]+\\.[a-zA-Z0-9-.]+)\", \" __email__ \", s\n",
    "    )"
   ]
  },
  {
   "cell_type": "code",
   "execution_count": 13,
   "metadata": {
    "colab": {},
    "colab_type": "code",
    "id": "ZPDYwLGBbdtF"
   },
   "outputs": [],
   "source": [
    "def RemoverNumbers(s):\n",
    "  # return re.sub(r'[0123456789]',' ',s)\n",
    "  return re.sub(r\"[\\d]+[\\d\\,\\.\\-\\(\\) \\/:ºª\\%]*\", \" __num__ \", s)"
   ]
  },
  {
   "cell_type": "code",
   "execution_count": 14,
   "metadata": {
    "colab": {},
    "colab_type": "code",
    "id": "LA5wxYyBbhNP"
   },
   "outputs": [],
   "source": [
    "def RemoveAccents(s):\n",
    "    return normalize(\"NFKD\", s).encode(\"ASCII\", \"ignore\").decode(\"ASCII\")"
   ]
  },
  {
   "cell_type": "code",
   "execution_count": 15,
   "metadata": {
    "colab": {},
    "colab_type": "code",
    "id": "rBZLX6wgbmZ9"
   },
   "outputs": [],
   "source": [
    "def RemoveStopWords(s):\n",
    "    stopwords = set(nltk.corpus.stopwords.words(\"portuguese\"))\n",
    "    for letter in range(97, 123):\n",
    "        stopwords.add(chr(letter))\n",
    "    palavras = [i for i in s.split() if not i in stopwords]\n",
    "    stopwords = set(nltk.corpus.stopwords.words(\"english\"))\n",
    "    palavras = \" \".join(palavras)\n",
    "    palavras = [i for i in palavras.split() if not i in stopwords]\n",
    "    return \" \".join(palavras)"
   ]
  },
  {
   "cell_type": "code",
   "execution_count": 16,
   "metadata": {
    "colab": {},
    "colab_type": "code",
    "id": "Dm3BZpstb6UF"
   },
   "outputs": [],
   "source": [
    "def RemovePunctuation(s):\n",
    "    return re.sub(r'[\\\\_\\+\\*-./?!,\":;()=#\\<\\>\\'|]', \" \", s)"
   ]
  },
  {
   "cell_type": "code",
   "execution_count": 17,
   "metadata": {
    "colab": {},
    "colab_type": "code",
    "id": "PjyxSpaReh9c"
   },
   "outputs": [],
   "source": [
    "def RemoveSmaller(s, num):\n",
    "    words = [i for i in s.split() if len(i) > num]\n",
    "    words = \" \".join(words)\n",
    "    return words"
   ]
  },
  {
   "cell_type": "code",
   "execution_count": 18,
   "metadata": {
    "colab": {},
    "colab_type": "code",
    "id": "4o921er-ZRGX"
   },
   "outputs": [],
   "source": [
    "def TrateText(s, stemming=False):\n",
    "    s = Lower(s)\n",
    "    s = RemoveURL(s)\n",
    "    s = RemoveEmail(s)\n",
    "    s = RemoverNumbers(s)\n",
    "    s = RemoveAccents(s)\n",
    "    s = RemoveStopWords(s)\n",
    "    s = RemovePunctuation(s)\n",
    "    # s = normalize_text(s)\n",
    "    # s = clear_text(s)\n",
    "    if stemming:\n",
    "        s = Stemming(s)\n",
    "    s = RemoveSmaller(s, 1)\n",
    "    return s"
   ]
  },
  {
   "cell_type": "code",
   "execution_count": 19,
   "metadata": {
    "colab": {},
    "colab_type": "code",
    "id": "uW8yUxaga_Kf"
   },
   "outputs": [
    {
     "data": {
      "text/plain": [
       "'num individuo utiliza vegetarianismo dieta seja nao consome nada origem animal alimentacao tambem nao consome nada origem animal cosmeticos vestuario todos aspectos vida alem disso veganos nao frequentam apoiam eventos causem sofrimento animais rodeios atividades similares'"
      ]
     },
     "execution_count": 19,
     "metadata": {},
     "output_type": "execute_result"
    }
   ],
   "source": [
    "TrateText('É 1 Indivíduo que utiliza o vegetarianismo como dieta, ou seja, que não consome nada de origem animal em sua alimentação. E que também não consome nada de origem animal em cosméticos, vestuário e em todos os aspectos da vida. Além disso, veganos não frequentam ou apoiam eventos que causem sofrimento aos animais como rodeios e atividades similares. ')"
   ]
  },
  {
   "cell_type": "code",
   "execution_count": 20,
   "metadata": {},
   "outputs": [],
   "source": [
    "usable = []\n",
    "for question in questions:\n",
    "  it = iter(conversations)\n",
    "  for definition, conversation in zip(it, it):\n",
    "    usable.append(' '.join([TrateText(definition), question]).strip())\n",
    "    usable.append(conversation)\n",
    "    usable.append(' '.join([question, TrateText(definition)]).strip())\n",
    "    usable.append(conversation)\n"
   ]
  },
  {
   "cell_type": "code",
   "execution_count": 21,
   "metadata": {},
   "outputs": [
    {
     "data": {
      "text/plain": [
       "1512"
      ]
     },
     "execution_count": 21,
     "metadata": {},
     "output_type": "execute_result"
    }
   ],
   "source": [
    "len(usable)"
   ]
  },
  {
   "cell_type": "code",
   "execution_count": 23,
   "metadata": {},
   "outputs": [
    {
     "data": {
      "text/plain": [
       "['abate humanitario',\n",
       " 'Um eufemismo para definir o assassinato de animais na pecuária. No abate humanitário, segundo a indústria, os animais sofrem menos do que em outros tipos de abate. ',\n",
       " 'abate humanitario',\n",
       " 'Um eufemismo para definir o assassinato de animais na pecuária. No abate humanitário, segundo a indústria, os animais sofrem menos do que em outros tipos de abate. ',\n",
       " 'abolicionismo',\n",
       " 'Na causa animal, um movimento filosófico e político que sustenta que nenhum animal deva ser explorado, mesmo que com melhores condições ou menos sofrimento. Assim como aconteceu com o abolicionismo humano, que propôs o fim da escravidão de homens e mulheres, o abolicionismo animal busca a abolição de toda forma de escravidão e exploração animal. ',\n",
       " 'abolicionismo',\n",
       " 'Na causa animal, um movimento filosófico e político que sustenta que nenhum animal deva ser explorado, mesmo que com melhores condições ou menos sofrimento. Assim como aconteceu com o abolicionismo humano, que propôs o fim da escravidão de homens e mulheres, o abolicionismo animal busca a abolição de toda forma de escravidão e exploração animal. ',\n",
       " 'agave',\n",
       " 'Um substituto do mel com mesma aparência e textura. Tem um sabor adocicado muito próximo do mel também, mas sua origem é um cacto, o mesmo que dá origem à tequila. ']"
      ]
     },
     "execution_count": 23,
     "metadata": {},
     "output_type": "execute_result"
    }
   ],
   "source": [
    "usable[:10]"
   ]
  },
  {
   "cell_type": "markdown",
   "metadata": {
    "colab_type": "text",
    "id": "Wga9TJXfUoKr"
   },
   "source": [
    "# ChatterBot"
   ]
  },
  {
   "cell_type": "markdown",
   "metadata": {
    "colab_type": "text",
    "id": "XA1BUtHTLTRu"
   },
   "source": [
    "## Train"
   ]
  },
  {
   "cell_type": "code",
   "execution_count": 48,
   "metadata": {
    "colab": {},
    "colab_type": "code",
    "id": "RyINMhjXS4ua"
   },
   "outputs": [],
   "source": [
    "# !pip install chatterbot"
   ]
  },
  {
   "cell_type": "code",
   "execution_count": 29,
   "metadata": {
    "colab": {},
    "colab_type": "code",
    "id": "MDVn8-uNTG1s"
   },
   "outputs": [],
   "source": [
    "# !pip install chatterbot_corpus"
   ]
  },
  {
   "cell_type": "code",
   "execution_count": null,
   "metadata": {},
   "outputs": [],
   "source": [
    "# sudo pip3 uninstall chatterbot-corpus\n",
    "# sudo pip3 uninstall chatterbot\n",
    "# sudo pip3 install PyYAML==5.1\n",
    "# sudo pip3 install --ignore-installed PyYAML==3.12\n",
    "# sudo pip3 install chatterbot\n",
    "# sudo pip3 install chatterbot-corpus\n",
    "# sudo pip3 uninstall pandas\n",
    "# sudo pip3 install pandas\n",
    "# sudo pip3 install --upgrade pandas"
   ]
  },
  {
   "cell_type": "code",
   "execution_count": 30,
   "metadata": {
    "colab": {},
    "colab_type": "code",
    "id": "tBZQXVZkSJm4"
   },
   "outputs": [],
   "source": [
    "from chatterbot.trainers import ListTrainer"
   ]
  },
  {
   "cell_type": "code",
   "execution_count": 31,
   "metadata": {
    "colab": {},
    "colab_type": "code",
    "id": "mDipsxFfSOLG"
   },
   "outputs": [],
   "source": [
    "from chatterbot import ChatBot"
   ]
  },
  {
   "cell_type": "code",
   "execution_count": 32,
   "metadata": {
    "colab": {},
    "colab_type": "code",
    "id": "kYQo2h4dSQq3"
   },
   "outputs": [
    {
     "name": "stderr",
     "output_type": "stream",
     "text": [
      "[nltk_data] Downloading package averaged_perceptron_tagger to\n",
      "[nltk_data]     /home/ivo/nltk_data...\n",
      "[nltk_data]   Package averaged_perceptron_tagger is already up-to-\n",
      "[nltk_data]       date!\n",
      "[nltk_data] Downloading package stopwords to /home/ivo/nltk_data...\n",
      "[nltk_data]   Package stopwords is already up-to-date!\n"
     ]
    }
   ],
   "source": [
    "bot = ChatBot('VISTA-SE')"
   ]
  },
  {
   "cell_type": "code",
   "execution_count": 33,
   "metadata": {
    "colab": {},
    "colab_type": "code",
    "id": "KxFEUNttdth9"
   },
   "outputs": [],
   "source": [
    "trainer = ListTrainer(bot)"
   ]
  },
  {
   "cell_type": "code",
   "execution_count": 34,
   "metadata": {
    "colab": {},
    "colab_type": "code",
    "id": "ZOr5NDgVdv7o"
   },
   "outputs": [
    {
     "name": "stdout",
     "output_type": "stream",
     "text": [
      "List Trainer: [####################] 100%\n"
     ]
    }
   ],
   "source": [
    "trainer.train(usable)"
   ]
  },
  {
   "cell_type": "code",
   "execution_count": 35,
   "metadata": {
    "colab": {},
    "colab_type": "code",
    "id": "TesrgieaaD9l"
   },
   "outputs": [
    {
     "name": "stdout",
     "output_type": "stream",
     "text": [
      "List Trainer: [####################] 100%\n"
     ]
    }
   ],
   "source": [
    "trainer.train(cordialities)"
   ]
  },
  {
   "cell_type": "code",
   "execution_count": 36,
   "metadata": {
    "colab": {},
    "colab_type": "code",
    "id": "tKJTDdVDLEUe"
   },
   "outputs": [
    {
     "name": "stdout",
     "output_type": "stream",
     "text": [
      "List Trainer: [####################] 100%\n"
     ]
    }
   ],
   "source": [
    "trainer.train(goodbyes)"
   ]
  },
  {
   "cell_type": "markdown",
   "metadata": {
    "colab_type": "text",
    "id": "9QYv_2T8ZiWB"
   },
   "source": [
    " # IA"
   ]
  },
  {
   "cell_type": "markdown",
   "metadata": {
    "colab_type": "text",
    "id": "4uDqKirgZmoX"
   },
   "source": [
    "## Cosine Distance"
   ]
  },
  {
   "cell_type": "code",
   "execution_count": 37,
   "metadata": {
    "colab": {},
    "colab_type": "code",
    "id": "ce4G4oH4Zpp7"
   },
   "outputs": [],
   "source": [
    "from nltk.cluster.util import cosine_distance"
   ]
  },
  {
   "cell_type": "code",
   "execution_count": 38,
   "metadata": {
    "colab": {},
    "colab_type": "code",
    "id": "ZNIEwsS7rWXg"
   },
   "outputs": [],
   "source": [
    "def sentence_similarity(sent1, sent2, stopwords=None):\n",
    "    if stopwords is None:\n",
    "        stopwords = []\n",
    "\n",
    "    sent1 = [w.lower() for w in sent1]\n",
    "    sent2 = [w.lower() for w in sent2]\n",
    "\n",
    "    all_words = list(set(sent1 + sent2))\n",
    "\n",
    "    vector1 = [0] * len(all_words)\n",
    "    vector2 = [0] * len(all_words)\n",
    "\n",
    "    # build the vector for the first sentence\n",
    "    for w in sent1:\n",
    "        if w in stopwords:\n",
    "            continue\n",
    "        vector1[all_words.index(w)] += 1\n",
    "\n",
    "    # build the vector for the second sentence\n",
    "    for w in sent2:\n",
    "        if w in stopwords:\n",
    "            continue\n",
    "        vector2[all_words.index(w)] += 1\n",
    "\n",
    "    return cosine_distance(vector1, vector2)"
   ]
  },
  {
   "cell_type": "code",
   "execution_count": 39,
   "metadata": {
    "colab": {},
    "colab_type": "code",
    "id": "Y6EKakEGrMpK"
   },
   "outputs": [],
   "source": [
    "def answer_cosine_distance(sent):\n",
    "    last = 0\n",
    "    converse = ''\n",
    "    sent = TrateText(sent)\n",
    "    for conversation in usable:\n",
    "        x = sentence_similarity(sent, conversation)\n",
    "        if x > last:\n",
    "          last = x\n",
    "          converse = conversation\n",
    "\n",
    "    return last, converse"
   ]
  },
  {
   "cell_type": "code",
   "execution_count": 40,
   "metadata": {
    "colab": {},
    "colab_type": "code",
    "id": "GKRCLNqSRhSq"
   },
   "outputs": [
    {
     "data": {
      "text/plain": [
       "(1.0, 'pts')"
      ]
     },
     "execution_count": 40,
     "metadata": {},
     "output_type": "execute_result"
    }
   ],
   "source": [
    "answer_cosine_distance('vegano')"
   ]
  },
  {
   "cell_type": "markdown",
   "metadata": {
    "colab_type": "text",
    "id": "pfrAd0K2ZsAb"
   },
   "source": [
    "## LSA"
   ]
  },
  {
   "cell_type": "code",
   "execution_count": 41,
   "metadata": {
    "colab": {},
    "colab_type": "code",
    "id": "YHd5fm3mZtBL"
   },
   "outputs": [],
   "source": [
    "from sklearn.decomposition import TruncatedSVD\n",
    "from sklearn.feature_extraction.text import CountVectorizer\n",
    "from sklearn.preprocessing import Normalizer\n",
    "from nltk.corpus import stopwords"
   ]
  },
  {
   "cell_type": "code",
   "execution_count": 42,
   "metadata": {},
   "outputs": [],
   "source": [
    "import pandas as pd"
   ]
  },
  {
   "cell_type": "code",
   "execution_count": 43,
   "metadata": {
    "colab": {},
    "colab_type": "code",
    "id": "Aqo5Txx1UFib"
   },
   "outputs": [],
   "source": [
    "def lsa(sent):\n",
    "    vectorizer = CountVectorizer(min_df=5, ngram_range=(1, 3), stop_words=stopwords.words(\"portuguese\"))\n",
    "\n",
    "    usable_trated = [TrateText(x) for x in usable]\n",
    "\n",
    "    dtm = vectorizer.fit_transform(usable_trated)\n",
    "    lsa = TruncatedSVD(150, algorithm=\"arpack\")\n",
    "\n",
    "    dtm = dtm.asfptype()\n",
    "    dtm_model = lsa.fit(dtm)\n",
    "\n",
    "    dtm_lsa = dtm_model.transform(dtm)\n",
    "    dtm_lsa = Normalizer(copy=False).fit_transform(dtm_lsa)\n",
    "\n",
    "    dtm = vectorizer.transform([TrateText(sent)])\n",
    "    dtm_lsa_exemplo = dtm_model.transform(dtm)\n",
    "    dtm_lsa_exemplo = Normalizer(copy=False).fit_transform(dtm_lsa_exemplo)\n",
    "\n",
    "    similarity = np.asarray(np.asmatrix(dtm_lsa) * np.asmatrix(dtm_lsa_exemplo).T)\n",
    "\n",
    "    res = (pd.DataFrame(similarity, index=usable_trated, columns=['sent'])\n",
    "    .sort_values(['sent'], ascending=False)\n",
    "    .head(1))\n",
    "\n",
    "    text = res.index[0]\n",
    "    idx = usable_trated.index(text) \n",
    "    score = res.values[0][0]\n",
    "\n",
    "    return idx, text, score"
   ]
  },
  {
   "cell_type": "code",
   "execution_count": 52,
   "metadata": {
    "colab": {},
    "colab_type": "code",
    "id": "vNMhizGBVAzg"
   },
   "outputs": [
    {
     "data": {
      "text/plain": [
       "(188, 'veganismo', 0.8142119302868118)"
      ]
     },
     "execution_count": 52,
     "metadata": {},
     "output_type": "execute_result"
    }
   ],
   "source": [
    "lsa('me explica o que é o veganismo')"
   ]
  },
  {
   "cell_type": "code",
   "execution_count": 53,
   "metadata": {
    "colab": {},
    "colab_type": "code",
    "id": "vPSxItBFa9Nq"
   },
   "outputs": [
    {
     "data": {
      "text/plain": [
       "(136, 'ovolactovegetariano', 1.0000000000000002)"
      ]
     },
     "execution_count": 53,
     "metadata": {},
     "output_type": "execute_result"
    }
   ],
   "source": [
    "lsa('o que é um ovolactovegetariano?')"
   ]
  },
  {
   "cell_type": "markdown",
   "metadata": {
    "colab_type": "text",
    "id": "_dCLbojeLXCN"
   },
   "source": [
    "# Bot"
   ]
  },
  {
   "cell_type": "code",
   "execution_count": 54,
   "metadata": {
    "colab": {},
    "colab_type": "code",
    "id": "SUPeJNLwd8aM"
   },
   "outputs": [
    {
     "name": "stdout",
     "output_type": "stream",
     "text": [
      "Me:oi\n",
      "ChatBot  1.0 : oi\n",
      "Me:boa tarde\n",
      "ChatBot  1.0 : boa tarde\n",
      "Me:o que e veganismo?\n",
      "ChatBot  1.0 : Filosofia de vida que busca excluir, sempre que praticável, todas as formas de exploração animal. Tanto na alimentação, quanto no entretenimento, no vestuário e em todos os outros comportamentos de consumo. É também uma postura política e social contra a exploração animal.\n",
      "Me:O que é leite de coco?\n",
      "ChatBot  0.91 : Qualquer leite que seja feito a partir de vegetais. Os mais comuns são os de soja, amêndoas, amendoim e coco. Basicamente, é só bater o vegetal com o dobro de água e coar, mas é importante buscar receitas específicas.\n",
      "Me:quem é fabio chaves?\n",
      "ChatBot  0.0 : Um eufemismo para definir o assassinato de animais na pecuária. No abate humanitário, segundo a indústria, os animais sofrem menos do que em outros tipos de abate.\n",
      "Me:fabio chaves\n",
      "ChatBot  0.0 : Um eufemismo para definir o assassinato de animais na pecuária. No abate humanitário, segundo a indústria, os animais sofrem menos do que em outros tipos de abate.\n",
      "Me:salsicha de soja\n",
      "ChatBot  0.88 : Procure por PTS.\n",
      "Me:pts\n",
      "ChatBot  1.0 : PTS é uma sigla que significa Proteína Texturizada de Soja. É a forma mais comum e fácil de se fazer a \"carne de soja\", que se parece muito com carne moída. A PTS é obtida da soja por meio de um processo industrial chamado extrusão. Muitos nutricionistas não recomendam a ingestão exagerada de PTS e alguns recomendam que ela não seja consumida.\n",
      "Me:falafel\n",
      "ChatBot  1.0 : Bolinho frito à base de grão-de-bico e ervas em formato ovalado de origem árabe. Sua receita original é vegana. É simplesmente delicioso.\n",
      "Me:b 12\n",
      "ChatBot  1.0 : Vitamina muito falada no meio vegano por ser encontrada naturalmente apenas em produtos de origem animal. Ela não é, no entanto, produzida por animais. A vitamina B12 é produzida por bactérias e é encontrada em produtos animais porque eles tornam-se depósitos dessa vitamina por consumir alimentos sem muita higienização. A vitamina B12 é essencial para a prevenção de alguns tipos de anemia e para o bom funcionamento do sistema nervoso. Sua reposição por meio de suplementação é obrigatória para vegetarianos. Muitas pessoas que comem carne também apresentam deficiência dessa vitamina e também devem fazer a suplementação.\n",
      "Me:ferro\n",
      "ChatBot  0.66 : Melado ou melado-de-cana é um derivado da cana-de-açúcar usado para substituir o mel em receitas. A receita vegana mais famosa que utiliza este ingrediente é o pão de melado. O melado é riquíssimo em ferro, mais uma vantagem sobre o mel, além de ser livre de crueldade.\n",
      "Me:ferritina\n",
      "ChatBot  0.0 : Um eufemismo para definir o assassinato de animais na pecuária. No abate humanitário, segundo a indústria, os animais sofrem menos do que em outros tipos de abate.\n",
      "Me:tchau\n",
      "ChatBot  1.0 : tchau\n"
     ]
    }
   ],
   "source": [
    "while True:\n",
    "    message = input('Me:')\n",
    "    message = TrateText(message)\n",
    "    reply = bot.get_response(message)\n",
    "    if reply.confidence > 0.8:\n",
    "        print('ChatBot ', round(reply.confidence, 2), ':', reply)\n",
    "    else:\n",
    "        idx, reply, score = lsa(message)\n",
    "\n",
    "        reply = '?'\n",
    "        if idx % 2 != 0:\n",
    "            idx = idx - 1\n",
    "        for index, item in enumerate(usable):\n",
    "            if index == idx:\n",
    "                reply = bot.get_response(item)\n",
    "                break\n",
    "        print('ChatBot ', round(score, 2), ':', reply)\n",
    "\n",
    "    if message in goodbyes:\n",
    "        break"
   ]
  },
  {
   "cell_type": "code",
   "execution_count": 55,
   "metadata": {
    "colab": {},
    "colab_type": "code",
    "id": "vlbS4oTppT3X"
   },
   "outputs": [],
   "source": [
    "# Me:oi\n",
    "# ChatBot  1.0 : oi\n",
    "# Me:boa tarde\n",
    "# ChatBot  1.0 : boa tarde\n",
    "# Me:o que e veganismo?\n",
    "# ChatBot  1.0 : Filosofia de vida que busca excluir, sempre que praticável, todas as formas de exploração animal. Tanto na alimentação, quanto no entretenimento, no vestuário e em todos os outros comportamentos de consumo. É também uma postura política e social contra a exploração animal.\n",
    "# Me:O que é leite de coco?\n",
    "# ChatBot  0.91 : Qualquer leite que seja feito a partir de vegetais. Os mais comuns são os de soja, amêndoas, amendoim e coco. Basicamente, é só bater o vegetal com o dobro de água e coar, mas é importante buscar receitas específicas.\n",
    "# Me:quem é fabio chaves?\n",
    "# ChatBot  0.0 : Um eufemismo para definir o assassinato de animais na pecuária. No abate humanitário, segundo a indústria, os animais sofrem menos do que em outros tipos de abate.\n",
    "# Me:fabio chaves\n",
    "# ChatBot  0.0 : Um eufemismo para definir o assassinato de animais na pecuária. No abate humanitário, segundo a indústria, os animais sofrem menos do que em outros tipos de abate.\n",
    "# Me:salsicha de soja\n",
    "# ChatBot  0.88 : Procure por PTS.\n",
    "# Me:pts\n",
    "# ChatBot  1.0 : PTS é uma sigla que significa Proteína Texturizada de Soja. É a forma mais comum e fácil de se fazer a \"carne de soja\", que se parece muito com carne moída. A PTS é obtida da soja por meio de um processo industrial chamado extrusão. Muitos nutricionistas não recomendam a ingestão exagerada de PTS e alguns recomendam que ela não seja consumida.\n",
    "# Me:falafel\n",
    "# ChatBot  1.0 : Bolinho frito à base de grão-de-bico e ervas em formato ovalado de origem árabe. Sua receita original é vegana. É simplesmente delicioso.\n",
    "# Me:b 12\n",
    "# ChatBot  1.0 : Vitamina muito falada no meio vegano por ser encontrada naturalmente apenas em produtos de origem animal. Ela não é, no entanto, produzida por animais. A vitamina B12 é produzida por bactérias e é encontrada em produtos animais porque eles tornam-se depósitos dessa vitamina por consumir alimentos sem muita higienização. A vitamina B12 é essencial para a prevenção de alguns tipos de anemia e para o bom funcionamento do sistema nervoso. Sua reposição por meio de suplementação é obrigatória para vegetarianos. Muitas pessoas que comem carne também apresentam deficiência dessa vitamina e também devem fazer a suplementação.\n",
    "# Me:ferro\n",
    "# ChatBot  0.66 : Melado ou melado-de-cana é um derivado da cana-de-açúcar usado para substituir o mel em receitas. A receita vegana mais famosa que utiliza este ingrediente é o pão de melado. O melado é riquíssimo em ferro, mais uma vantagem sobre o mel, além de ser livre de crueldade.\n",
    "# Me:ferritina\n",
    "# ChatBot  0.0 : Um eufemismo para definir o assassinato de animais na pecuária. No abate humanitário, segundo a indústria, os animais sofrem menos do que em outros tipos de abate.\n",
    "# Me:tchau\n",
    "# ChatBot  1.0 : tchau\n"
   ]
  },
  {
   "cell_type": "code",
   "execution_count": null,
   "metadata": {},
   "outputs": [],
   "source": []
  }
 ],
 "metadata": {
  "colab": {
   "collapsed_sections": [],
   "name": "ChatBotVista-se",
   "provenance": []
  },
  "kernelspec": {
   "display_name": "Python 3",
   "language": "python",
   "name": "python3"
  },
  "language_info": {
   "codemirror_mode": {
    "name": "ipython",
    "version": 3
   },
   "file_extension": ".py",
   "mimetype": "text/x-python",
   "name": "python",
   "nbconvert_exporter": "python",
   "pygments_lexer": "ipython3",
   "version": "3.6.9"
  },
  "toc": {
   "base_numbering": 1,
   "nav_menu": {},
   "number_sections": true,
   "sideBar": true,
   "skip_h1_title": false,
   "title_cell": "Table of Contents",
   "title_sidebar": "Contents",
   "toc_cell": false,
   "toc_position": {},
   "toc_section_display": true,
   "toc_window_display": false
  },
  "varInspector": {
   "cols": {
    "lenName": 16,
    "lenType": 16,
    "lenVar": 40
   },
   "kernels_config": {
    "python": {
     "delete_cmd_postfix": "",
     "delete_cmd_prefix": "del ",
     "library": "var_list.py",
     "varRefreshCmd": "print(var_dic_list())"
    },
    "r": {
     "delete_cmd_postfix": ") ",
     "delete_cmd_prefix": "rm(",
     "library": "var_list.r",
     "varRefreshCmd": "cat(var_dic_list()) "
    }
   },
   "types_to_exclude": [
    "module",
    "function",
    "builtin_function_or_method",
    "instance",
    "_Feature"
   ],
   "window_display": false
  }
 },
 "nbformat": 4,
 "nbformat_minor": 1
}
